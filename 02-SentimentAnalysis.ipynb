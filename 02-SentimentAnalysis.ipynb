{
 "cells": [
  {
   "cell_type": "markdown",
   "metadata": {},
   "source": [
    "### Gaussian Naive Bayes (GaussianNB)\n",
    "\n",
    "* Estimator: https://scikit-learn.org/stable/modules/generated/sklearn.naive_bayes.GaussianNB.html\n",
    "* Dataset: https://www.kaggle.com/utathya/imdb-review-dataset"
   ]
  },
  {
   "cell_type": "code",
   "execution_count": 128,
   "metadata": {},
   "outputs": [],
   "source": [
    "import pandas as pd\n",
    "import numpy as np\n",
    "\n",
    "from sklearn.model_selection import train_test_split\n",
    "\n",
    "from sklearn.metrics import accuracy_score\n",
    "from sklearn.metrics import precision_score\n",
    "from sklearn.metrics import recall_score\n",
    "\n",
    "from sklearn.feature_extraction.text import CountVectorizer\n",
    "from sklearn.feature_extraction.text import TfidfTransformer\n",
    "\n",
    "from sklearn.linear_model import LogisticRegression\n",
    "from sklearn.pipeline import Pipeline "
   ]
  },
  {
   "cell_type": "code",
   "execution_count": 129,
   "metadata": {},
   "outputs": [],
   "source": [
    "imdb_df = pd.read_csv('./datasets/imdb_dataset.csv', encoding=\"ISO-8859-1\")"
   ]
  },
  {
   "cell_type": "code",
   "execution_count": 130,
   "metadata": {
    "scrolled": true
   },
   "outputs": [
    {
     "data": {
      "text/plain": [
       "(50000, 2)"
      ]
     },
     "execution_count": 130,
     "metadata": {},
     "output_type": "execute_result"
    }
   ],
   "source": [
    "imdb_df.shape"
   ]
  },
  {
   "cell_type": "code",
   "execution_count": 131,
   "metadata": {},
   "outputs": [],
   "source": [
    "imdb_df = imdb_df.sample(10000, replace=False)"
   ]
  },
  {
   "cell_type": "code",
   "execution_count": 132,
   "metadata": {},
   "outputs": [
    {
     "data": {
      "text/html": [
       "<div>\n",
       "<style scoped>\n",
       "    .dataframe tbody tr th:only-of-type {\n",
       "        vertical-align: middle;\n",
       "    }\n",
       "\n",
       "    .dataframe tbody tr th {\n",
       "        vertical-align: top;\n",
       "    }\n",
       "\n",
       "    .dataframe thead th {\n",
       "        text-align: right;\n",
       "    }\n",
       "</style>\n",
       "<table border=\"1\" class=\"dataframe\">\n",
       "  <thead>\n",
       "    <tr style=\"text-align: right;\">\n",
       "      <th></th>\n",
       "      <th>Review</th>\n",
       "      <th>Label</th>\n",
       "    </tr>\n",
       "  </thead>\n",
       "  <tbody>\n",
       "    <tr>\n",
       "      <th>count</th>\n",
       "      <td>10000</td>\n",
       "      <td>10000</td>\n",
       "    </tr>\n",
       "    <tr>\n",
       "      <th>unique</th>\n",
       "      <td>9989</td>\n",
       "      <td>2</td>\n",
       "    </tr>\n",
       "    <tr>\n",
       "      <th>top</th>\n",
       "      <td>A friend and I went to see this movie. We have...</td>\n",
       "      <td>neg</td>\n",
       "    </tr>\n",
       "    <tr>\n",
       "      <th>freq</th>\n",
       "      <td>2</td>\n",
       "      <td>5099</td>\n",
       "    </tr>\n",
       "  </tbody>\n",
       "</table>\n",
       "</div>"
      ],
      "text/plain": [
       "                                                   Review  Label\n",
       "count                                               10000  10000\n",
       "unique                                               9989      2\n",
       "top     A friend and I went to see this movie. We have...    neg\n",
       "freq                                                    2   5099"
      ]
     },
     "execution_count": 132,
     "metadata": {},
     "output_type": "execute_result"
    }
   ],
   "source": [
    "imdb_df.describe()"
   ]
  },
  {
   "cell_type": "code",
   "execution_count": 133,
   "metadata": {},
   "outputs": [],
   "source": [
    "X = imdb_df['Review']\n",
    "\n",
    "Y = imdb_df['Label']"
   ]
  },
  {
   "cell_type": "code",
   "execution_count": 134,
   "metadata": {},
   "outputs": [
    {
     "data": {
      "text/plain": [
       "30903    There is one really good scene in Faat Kine. T...\n",
       "42763    WWE was in need of a saviour as Wrestlemania 1...\n",
       "28619    The cast is OK. The script is awkward at times...\n",
       "47138    Barbra Streisand is a tour de force in this Ho...\n",
       "49756    Peaches is truly a marvelous film. I write thi...\n",
       "Name: Review, dtype: object"
      ]
     },
     "execution_count": 134,
     "metadata": {},
     "output_type": "execute_result"
    }
   ],
   "source": [
    "X.head()"
   ]
  },
  {
   "cell_type": "code",
   "execution_count": 135,
   "metadata": {},
   "outputs": [
    {
     "data": {
      "text/plain": [
       "30903    neg\n",
       "42763    pos\n",
       "28619    neg\n",
       "47138    pos\n",
       "49756    pos\n",
       "Name: Label, dtype: object"
      ]
     },
     "execution_count": 135,
     "metadata": {},
     "output_type": "execute_result"
    }
   ],
   "source": [
    "Y.head()"
   ]
  },
  {
   "cell_type": "code",
   "execution_count": 136,
   "metadata": {},
   "outputs": [],
   "source": [
    "count_vectorizer = CountVectorizer()\n",
    "\n",
    "transformed_vector = count_vectorizer.fit_transform(X)"
   ]
  },
  {
   "cell_type": "code",
   "execution_count": 137,
   "metadata": {},
   "outputs": [
    {
     "data": {
      "text/plain": [
       "(10000, 52190)"
      ]
     },
     "execution_count": 137,
     "metadata": {},
     "output_type": "execute_result"
    }
   ],
   "source": [
    "transformed_vector.shape"
   ]
  },
  {
   "cell_type": "code",
   "execution_count": 138,
   "metadata": {},
   "outputs": [
    {
     "name": "stdout",
     "output_type": "stream",
     "text": [
      "  (0, 37635)\t1\n",
      "  (0, 46715)\t1\n",
      "  (0, 13549)\t1\n",
      "  (0, 48275)\t1\n",
      "  (0, 50423)\t1\n",
      "  (0, 22363)\t1\n",
      "  (0, 44583)\t1\n",
      "  (0, 40868)\t1\n",
      "  (0, 29144)\t1\n",
      "  (0, 43044)\t1\n",
      "  (0, 51044)\t1\n",
      "  (0, 34237)\t1\n",
      "  (0, 44380)\t2\n",
      "  (0, 33765)\t1\n",
      "  (0, 9922)\t1\n",
      "  (0, 31863)\t1\n",
      "  (0, 20653)\t1\n",
      "  (0, 47257)\t1\n",
      "  (0, 32041)\t1\n",
      "  (0, 17026)\t1\n",
      "  (0, 38941)\t1\n",
      "  (0, 47068)\t1\n",
      "  (0, 2013)\t2\n",
      "  (0, 34310)\t1\n",
      "  (0, 16278)\t1\n",
      "  :\t:\n",
      "  (0, 16521)\t2\n",
      "  (0, 21529)\t2\n",
      "  (0, 43679)\t1\n",
      "  (0, 46618)\t1\n",
      "  (0, 4619)\t2\n",
      "  (0, 1447)\t2\n",
      "  (0, 2262)\t6\n",
      "  (0, 51321)\t2\n",
      "  (0, 2445)\t2\n",
      "  (0, 51230)\t5\n",
      "  (0, 2869)\t1\n",
      "  (0, 2192)\t3\n",
      "  (0, 19246)\t1\n",
      "  (0, 8013)\t3\n",
      "  (0, 46913)\t1\n",
      "  (0, 46403)\t31\n",
      "  (0, 25635)\t5\n",
      "  (0, 16501)\t5\n",
      "  (0, 23136)\t10\n",
      "  (0, 40361)\t7\n",
      "  (0, 19745)\t1\n",
      "  (0, 37464)\t1\n",
      "  (0, 32666)\t3\n",
      "  (0, 24271)\t9\n",
      "  (0, 46459)\t4\n"
     ]
    }
   ],
   "source": [
    "print(transformed_vector[0])"
   ]
  },
  {
   "cell_type": "code",
   "execution_count": 139,
   "metadata": {},
   "outputs": [],
   "source": [
    "tfidf_transformer = TfidfTransformer()\n",
    "\n",
    "tfidf_vector = tfidf_transformer.fit_transform(transformed_vector)"
   ]
  },
  {
   "cell_type": "code",
   "execution_count": 140,
   "metadata": {},
   "outputs": [
    {
     "name": "stdout",
     "output_type": "stream",
     "text": [
      "  (0, 51565)\t0.03791793387699295\n",
      "  (0, 51479)\t0.03126192371356777\n",
      "  (0, 51438)\t0.03738663519197124\n",
      "  (0, 51321)\t0.06405687489600245\n",
      "  (0, 51246)\t0.029145930538354462\n",
      "  (0, 51244)\t0.04077623973301778\n",
      "  (0, 51230)\t0.06216902332520747\n",
      "  (0, 51100)\t0.048915539614756656\n",
      "  (0, 51044)\t0.021821847854236267\n",
      "  (0, 50911)\t0.03271283140199068\n",
      "  (0, 50804)\t0.023870729803745806\n",
      "  (0, 50518)\t0.021933671894449235\n",
      "  (0, 50465)\t0.02603784846427607\n",
      "  (0, 50423)\t0.013044150115643693\n",
      "  (0, 49825)\t0.04169103131750947\n",
      "  (0, 49142)\t0.01856731818227796\n",
      "  (0, 49079)\t0.034027596841258854\n",
      "  (0, 48701)\t0.036653404088178757\n",
      "  (0, 48642)\t0.05154692022508718\n",
      "  (0, 48275)\t0.05174607900525253\n",
      "  (0, 48116)\t0.07210428599935079\n",
      "  (0, 48082)\t0.05009399779331891\n",
      "  (0, 47835)\t0.03236602232334837\n",
      "  (0, 47257)\t0.04389743417335611\n",
      "  (0, 47099)\t0.06410863211746622\n",
      "  :\t:\n",
      "  (0, 4991)\t0.028684053624532455\n",
      "  (0, 4619)\t0.047255714154623964\n",
      "  (0, 4580)\t0.03684579687234104\n",
      "  (0, 4531)\t0.021230329065117338\n",
      "  (0, 4470)\t0.04337161081705015\n",
      "  (0, 4374)\t0.02880148813287785\n",
      "  (0, 3938)\t0.056208585593371704\n",
      "  (0, 3458)\t0.06647356239002454\n",
      "  (0, 3302)\t0.015249370288829965\n",
      "  (0, 2869)\t0.05744212819522364\n",
      "  (0, 2845)\t0.04030845278744837\n",
      "  (0, 2842)\t0.04336933789494997\n",
      "  (0, 2550)\t0.06776023609906483\n",
      "  (0, 2445)\t0.053057508558800724\n",
      "  (0, 2262)\t0.05637258835194175\n",
      "  (0, 2192)\t0.047076848044966896\n",
      "  (0, 2152)\t0.04561751840408696\n",
      "  (0, 2013)\t0.06063123589194621\n",
      "  (0, 1956)\t0.021551775257603597\n",
      "  (0, 1839)\t0.04479121706480851\n",
      "  (0, 1447)\t0.04465691256014941\n",
      "  (0, 1434)\t0.05707222541813849\n",
      "  (0, 1092)\t0.04976445748709562\n",
      "  (0, 1075)\t0.03720274559471659\n",
      "  (0, 886)\t0.06798185609858391\n"
     ]
    }
   ],
   "source": [
    "print(tfidf_vector[0])"
   ]
  },
  {
   "cell_type": "code",
   "execution_count": 141,
   "metadata": {},
   "outputs": [],
   "source": [
    "x_train, x_test, y_train, y_test = train_test_split(tfidf_vector, Y, test_size = 0.2)"
   ]
  },
  {
   "cell_type": "code",
   "execution_count": 142,
   "metadata": {},
   "outputs": [
    {
     "data": {
      "text/plain": [
       "((8000, 52190), (2000, 52190))"
      ]
     },
     "execution_count": 142,
     "metadata": {},
     "output_type": "execute_result"
    }
   ],
   "source": [
    "x_train.shape, x_test.shape"
   ]
  },
  {
   "cell_type": "code",
   "execution_count": 143,
   "metadata": {},
   "outputs": [
    {
     "data": {
      "text/plain": [
       "((8000,), (2000,))"
      ]
     },
     "execution_count": 143,
     "metadata": {},
     "output_type": "execute_result"
    }
   ],
   "source": [
    "y_train.shape, y_test.shape"
   ]
  },
  {
   "cell_type": "code",
   "execution_count": 144,
   "metadata": {},
   "outputs": [],
   "source": [
    "def summarize_classification(y_test, y_pred):\n",
    "    acc = accuracy_score(y_test, y_pred,normalize=True)\n",
    "    num_acc = accuracy_score(y_test, y_pred,normalize=False)\n",
    "    prec = precision_score(y_test, y_pred, average='weighted')\n",
    "    recall = recall_score(y_test, y_pred, average='weighted')\n",
    "    \n",
    "    print(\"Length of testing data: \", len(y_test))\n",
    "    print(\"accuracy_count : \" , num_acc)\n",
    "    print(\"accuracy_score : \" , acc)\n",
    "    print(\"precision_score : \" , prec)\n",
    "    print(\"recall_score : \", recall)"
   ]
  },
  {
   "cell_type": "code",
   "execution_count": 145,
   "metadata": {},
   "outputs": [],
   "source": [
    "clf = GaussianNB().fit(x_train.toarray(), y_train)"
   ]
  },
  {
   "cell_type": "code",
   "execution_count": 146,
   "metadata": {},
   "outputs": [],
   "source": [
    "y_pred = clf.predict(x_test.toarray())"
   ]
  },
  {
   "cell_type": "code",
   "execution_count": 147,
   "metadata": {},
   "outputs": [
    {
     "name": "stdout",
     "output_type": "stream",
     "text": [
      "Length of testing data:  2000\n",
      "accuracy_count :  1283\n",
      "accuracy_score :  0.6415\n",
      "precision_score :  0.6420335341542481\n",
      "recall_score :  0.6415\n"
     ]
    }
   ],
   "source": [
    "summarize_classification(y_test, y_pred)"
   ]
  },
  {
   "cell_type": "code",
   "execution_count": 148,
   "metadata": {},
   "outputs": [],
   "source": [
    "y_test = np.array(y_test)"
   ]
  },
  {
   "cell_type": "code",
   "execution_count": 149,
   "metadata": {},
   "outputs": [
    {
     "data": {
      "text/html": [
       "<div>\n",
       "<style scoped>\n",
       "    .dataframe tbody tr th:only-of-type {\n",
       "        vertical-align: middle;\n",
       "    }\n",
       "\n",
       "    .dataframe tbody tr th {\n",
       "        vertical-align: top;\n",
       "    }\n",
       "\n",
       "    .dataframe thead th {\n",
       "        text-align: right;\n",
       "    }\n",
       "</style>\n",
       "<table border=\"1\" class=\"dataframe\">\n",
       "  <thead>\n",
       "    <tr style=\"text-align: right;\">\n",
       "      <th></th>\n",
       "      <th>y_test</th>\n",
       "      <th>y_pred</th>\n",
       "    </tr>\n",
       "  </thead>\n",
       "  <tbody>\n",
       "    <tr>\n",
       "      <th>1734</th>\n",
       "      <td>neg</td>\n",
       "      <td>pos</td>\n",
       "    </tr>\n",
       "    <tr>\n",
       "      <th>1840</th>\n",
       "      <td>pos</td>\n",
       "      <td>pos</td>\n",
       "    </tr>\n",
       "    <tr>\n",
       "      <th>1130</th>\n",
       "      <td>pos</td>\n",
       "      <td>neg</td>\n",
       "    </tr>\n",
       "    <tr>\n",
       "      <th>1804</th>\n",
       "      <td>neg</td>\n",
       "      <td>neg</td>\n",
       "    </tr>\n",
       "    <tr>\n",
       "      <th>1893</th>\n",
       "      <td>neg</td>\n",
       "      <td>neg</td>\n",
       "    </tr>\n",
       "  </tbody>\n",
       "</table>\n",
       "</div>"
      ],
      "text/plain": [
       "     y_test y_pred\n",
       "1734    neg    pos\n",
       "1840    pos    pos\n",
       "1130    pos    neg\n",
       "1804    neg    neg\n",
       "1893    neg    neg"
      ]
     },
     "execution_count": 149,
     "metadata": {},
     "output_type": "execute_result"
    }
   ],
   "source": [
    "pred_results = pd.DataFrame({'y_test': pd.Series(y_test),\n",
    "                             'y_pred': pd.Series(y_pred)})\n",
    "\n",
    "pred_results.sample(5)"
   ]
  },
  {
   "cell_type": "code",
   "execution_count": null,
   "metadata": {},
   "outputs": [],
   "source": []
  }
 ],
 "metadata": {
  "kernelspec": {
   "display_name": "Python 3",
   "language": "python",
   "name": "python3"
  },
  "language_info": {
   "codemirror_mode": {
    "name": "ipython",
    "version": 3
   },
   "file_extension": ".py",
   "mimetype": "text/x-python",
   "name": "python",
   "nbconvert_exporter": "python",
   "pygments_lexer": "ipython3",
   "version": "3.6.9"
  }
 },
 "nbformat": 4,
 "nbformat_minor": 2
}
